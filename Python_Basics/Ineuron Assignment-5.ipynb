{
 "cells": [
  {
   "cell_type": "markdown",
   "id": "c4040ec8",
   "metadata": {},
   "source": [
    "### 1. What does an empty dictionary&#39;s code look like?"
   ]
  },
  {
   "cell_type": "markdown",
   "id": "3f9d4e83",
   "metadata": {},
   "source": [
    "**Ans**  `{}` signifies an empty dictionary"
   ]
  },
  {
   "cell_type": "markdown",
   "id": "48e2d5ec",
   "metadata": {},
   "source": [
    "### 2. What is the value of a dictionary value with the key &#39;foo&#39; and the value 42?"
   ]
  },
  {
   "cell_type": "code",
   "execution_count": 7,
   "id": "949dd849",
   "metadata": {},
   "outputs": [
    {
     "data": {
      "text/plain": [
       "42"
      ]
     },
     "execution_count": 7,
     "metadata": {},
     "output_type": "execute_result"
    }
   ],
   "source": [
    "d = {'foo':42}\n",
    "d['foo']"
   ]
  },
  {
   "cell_type": "markdown",
   "id": "a4029afd",
   "metadata": {},
   "source": [
    "### 3. What is the most significant distinction between a dictionary and a list?"
   ]
  },
  {
   "cell_type": "markdown",
   "id": "c41b5102",
   "metadata": {},
   "source": [
    "**Ans** Items in a dictionary are unorder or can be called by their 'key value' pair, whereas in a list all items are ordered"
   ]
  },
  {
   "cell_type": "markdown",
   "id": "d4a06435",
   "metadata": {},
   "source": [
    "### 4. What happens if you try to access spam[&#39;foo&#39;] if spam is {&#39;bar&#39;: 100}?"
   ]
  },
  {
   "cell_type": "markdown",
   "id": "bfe34734",
   "metadata": {},
   "source": [
    "**Ans** The code throws an error saying `KeyError: 'foo'` as there is no key called `'foo'` in `'spam'`"
   ]
  },
  {
   "cell_type": "markdown",
   "id": "69efa927",
   "metadata": {},
   "source": [
    "### 5. If a dictionary is stored in spam, what is the difference between the expressions &#39;cat&#39; in spam and &#39;cat&#39; in spam.keys()?"
   ]
  },
  {
   "cell_type": "markdown",
   "id": "07a7a50f",
   "metadata": {},
   "source": [
    "**Ans** There is no difference . The operator checks whether a value exits as a key in the dictionary or not"
   ]
  },
  {
   "cell_type": "markdown",
   "id": "b84a9fdf",
   "metadata": {},
   "source": [
    "### 6. If a dictionary is stored in spam, what is the difference between the expressions &#39;cat&#39; in spam and &#39;cat&#39; in spam.values()?"
   ]
  },
  {
   "cell_type": "markdown",
   "id": "f271b4d2",
   "metadata": {},
   "source": [
    "**Ans** 'cat' in spam checks sees if there is a 'cat' key in the dictionary, and 'cat' in spam.values() checks whether there is a value 'cat' for one of the keys in spam"
   ]
  },
  {
   "cell_type": "markdown",
   "id": "2dd79364",
   "metadata": {},
   "source": [
    "### 7. What is a shortcut for the following code?\n",
    " `if 'color' not in spam:\n",
    "  spam['color'] = 'black'`"
   ]
  },
  {
   "cell_type": "markdown",
   "id": "50c06c5a",
   "metadata": {},
   "source": [
    "**Ans** `spam.setdefault('color','black')`"
   ]
  },
  {
   "cell_type": "markdown",
   "id": "8f4ccc4a",
   "metadata": {},
   "source": [
    "### 8. How do you &quot;pretty print&quot; dictionary values using which module and function?"
   ]
  },
  {
   "cell_type": "markdown",
   "id": "f7cbfad5",
   "metadata": {},
   "source": [
    "**Ans** We can use the json library with the pretty function in order to 'pretty print' dictionary"
   ]
  },
  {
   "cell_type": "markdown",
   "id": "70dafd1e",
   "metadata": {},
   "source": [
    "### 9. What are the list concatenation and list replication operators?"
   ]
  },
  {
   "cell_type": "markdown",
   "id": "eae4060b",
   "metadata": {},
   "source": [
    "**Ans** The operator for list concatenation is `+` and the operator for replication is `*`."
   ]
  },
  {
   "cell_type": "markdown",
   "id": "6f393426",
   "metadata": {},
   "source": [
    "### 10. What is difference between the list methods append() and insert()?"
   ]
  },
  {
   "cell_type": "markdown",
   "id": "92311de8",
   "metadata": {},
   "source": [
    "**Ans** The `list.append()` method just adds the element to the end of the list while the `list.insert()` method gives us control as to which index we want to insert the element into"
   ]
  },
  {
   "cell_type": "markdown",
   "id": "5c57be61",
   "metadata": {},
   "source": [
    "### 11. What are the two methods for removing items from a list?"
   ]
  },
  {
   "cell_type": "markdown",
   "id": "06038a6e",
   "metadata": {},
   "source": [
    "**Ans** The `list.pop()` method removes the last element of the list by default, index can be specified and `list.remove()` removes a matching element from the list  "
   ]
  },
  {
   "cell_type": "markdown",
   "id": "eeca9381",
   "metadata": {},
   "source": [
    "### 12. Describe how list values and string values are identical."
   ]
  },
  {
   "cell_type": "markdown",
   "id": "5f73ac61",
   "metadata": {},
   "source": [
    "**Ans** Both are sequences whose elements can be accessed by their index numbers and can be passed to the len function"
   ]
  },
  {
   "cell_type": "markdown",
   "id": "9f945bfb",
   "metadata": {},
   "source": [
    "### 13. What&#39;s the difference between tuples and lists?"
   ]
  },
  {
   "cell_type": "markdown",
   "id": "b8e6f6ae",
   "metadata": {},
   "source": [
    "**Ans** Both of them are sequences but `lists` are mutable and `tuples` are immutable"
   ]
  },
  {
   "cell_type": "markdown",
   "id": "2a75c3a3",
   "metadata": {},
   "source": [
    "### 14. How do you type a tuple value that only contains the integer 42?"
   ]
  },
  {
   "cell_type": "markdown",
   "id": "bc26edd2",
   "metadata": {},
   "source": [
    "**Ans** `tup = (42,)`"
   ]
  },
  {
   "cell_type": "markdown",
   "id": "1b16fb67",
   "metadata": {},
   "source": [
    "### 15. How do you get a list value&#39;s tuple form? How do you get a tuple value&#39;s list form?"
   ]
  },
  {
   "cell_type": "markdown",
   "id": "ccc249c2",
   "metadata": {},
   "source": [
    "**Ans** We can use the `tuple()` function and `list()` function to convert and get the forms of lists and tuples "
   ]
  },
  {
   "cell_type": "markdown",
   "id": "bdae3f0e",
   "metadata": {},
   "source": [
    "### 16. Variables that &quot;contain&quot; list values are not necessarily lists themselves. Instead, what do they contain?"
   ]
  },
  {
   "cell_type": "markdown",
   "id": "453fc40b",
   "metadata": {},
   "source": [
    "**Ans** Variables that contain list values contain the references to the list values in memory and not the list themselves, this is the reason why lists are also mutable"
   ]
  },
  {
   "cell_type": "markdown",
   "id": "53fb4dc8",
   "metadata": {},
   "source": [
    "### 17. How do you distinguish between copy.copy() and copy.deepcopy()?"
   ]
  },
  {
   "cell_type": "markdown",
   "id": "f7a6566d",
   "metadata": {},
   "source": [
    "**Ans** `copy.copy()` reflects changes made to the new/copied object in the original object as it copies the refrences. `copy.deepcopy()` doesn't reflect changes made to the new/copied object in the original object as it creates a new copy of the object."
   ]
  },
  {
   "cell_type": "code",
   "execution_count": null,
   "id": "ff88627c",
   "metadata": {},
   "outputs": [],
   "source": []
  }
 ],
 "metadata": {
  "kernelspec": {
   "display_name": "Python 3 (ipykernel)",
   "language": "python",
   "name": "python3"
  },
  "language_info": {
   "codemirror_mode": {
    "name": "ipython",
    "version": 3
   },
   "file_extension": ".py",
   "mimetype": "text/x-python",
   "name": "python",
   "nbconvert_exporter": "python",
   "pygments_lexer": "ipython3",
   "version": "3.9.12"
  }
 },
 "nbformat": 4,
 "nbformat_minor": 5
}
