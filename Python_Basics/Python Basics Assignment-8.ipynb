{
 "cells": [
  {
   "cell_type": "markdown",
   "id": "7855f0ac",
   "metadata": {},
   "source": [
    "\n",
    "### 1. Is the Python Standard Library included with PyInputPlus?"
   ]
  },
  {
   "cell_type": "markdown",
   "id": "e6d38bb6",
   "metadata": {},
   "source": [
    "\n",
    "**Ans** No it is not and can be installed using the pip comnmand"
   ]
  },
  {
   "cell_type": "markdown",
   "id": "2e8f2955",
   "metadata": {},
   "source": [
    "### 2. Why is PyInputPlus commonly imported with import pyinputplus as pypi?"
   ]
  },
  {
   "cell_type": "markdown",
   "id": "8f12117f",
   "metadata": {},
   "source": [
    "**Ans** You can import the module with import pyinputplus as `pyip` to use it as an alias to called the module's functions"
   ]
  },
  {
   "cell_type": "markdown",
   "id": "8c51a4eb",
   "metadata": {},
   "source": [
    "### 3. How do you distinguish between inputInt() and inputFloat()?"
   ]
  },
  {
   "cell_type": "markdown",
   "id": "0503fc0f",
   "metadata": {},
   "source": [
    "**Ans** On the basis of the values that they accpet, `inputInt()` accepts/converts to only intergers whereas `inputFloat()` accepts/converts to only floating point numbers"
   ]
  },
  {
   "cell_type": "markdown",
   "id": "1fb57079",
   "metadata": {},
   "source": [
    "### 4. Using PyInputPlus, how do you ensure that the user enters a whole number between 0 and 99?"
   ]
  },
  {
   "cell_type": "markdown",
   "id": "02c12c9d",
   "metadata": {},
   "source": [
    "**Ans** PyInputPlus module provides a function called as inputInt() which only returns only integer values. inorder to restrict the input between 0 and 99, we input the range that we want into the parameters"
   ]
  },
  {
   "cell_type": "markdown",
   "id": "f13f3fa8",
   "metadata": {},
   "source": [
    "### 5. What is transferred to the keyword arguments allowRegexes and blockRegexes?"
   ]
  },
  {
   "cell_type": "markdown",
   "id": "d1a13e47",
   "metadata": {},
   "source": [
    "**Ans** A list of regular expression strings to determine what the PyInputPlus function will accept or reject as valid input"
   ]
  },
  {
   "cell_type": "markdown",
   "id": "baa29199",
   "metadata": {},
   "source": [
    "### 6. If a blank input is entered three times, what does inputStr(limit=3) do?\n",
    "\n"
   ]
  },
  {
   "cell_type": "markdown",
   "id": "9c7c26a9",
   "metadata": {},
   "source": [
    "**Ans** The statement inputStr(limit=3) will throw two exceptions ValidationException and RetryLimitException. The first exception is thrown because blank values are not allowed by inputStr() function by default. it we want to consider blank values as valid input, we have to set `blank=True`."
   ]
  },
  {
   "cell_type": "markdown",
   "id": "6ac76723",
   "metadata": {},
   "source": [
    "### 7. If blank input is entered three times, what does inputStr(limit=3, default='hello') do?"
   ]
  },
  {
   "cell_type": "markdown",
   "id": "97ed1842",
   "metadata": {},
   "source": [
    "**Ans** Since the default parameter is set to hello. after blank input is entered three times instead of raising RetryLimitException exception. the function will return hello as response to the calling function\n"
   ]
  },
  {
   "cell_type": "code",
   "execution_count": null,
   "id": "4617feb9",
   "metadata": {},
   "outputs": [],
   "source": []
  }
 ],
 "metadata": {
  "kernelspec": {
   "display_name": "Python 3 (ipykernel)",
   "language": "python",
   "name": "python3"
  },
  "language_info": {
   "codemirror_mode": {
    "name": "ipython",
    "version": 3
   },
   "file_extension": ".py",
   "mimetype": "text/x-python",
   "name": "python",
   "nbconvert_exporter": "python",
   "pygments_lexer": "ipython3",
   "version": "3.9.12"
  }
 },
 "nbformat": 4,
 "nbformat_minor": 5
}
