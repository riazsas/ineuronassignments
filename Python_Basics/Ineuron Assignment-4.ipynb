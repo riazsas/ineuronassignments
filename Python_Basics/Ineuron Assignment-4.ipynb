{
 "cells": [
  {
   "cell_type": "markdown",
   "id": "3931d767",
   "metadata": {},
   "source": [
    "### 1. What exactly is [ ]?"
   ]
  },
  {
   "cell_type": "markdown",
   "id": "a6e29520",
   "metadata": {},
   "source": [
    "**Ans**  `[]` signifies an empty list"
   ]
  },
  {
   "cell_type": "markdown",
   "id": "ec0d84b8",
   "metadata": {},
   "source": [
    "### 2. In a list of values stored in a variable called spam, how would you assign the value &#39;hello&#39; as the third value? (Assume [2, 4, 6, 8, 10] are in spam.)"
   ]
  },
  {
   "cell_type": "markdown",
   "id": "92993dff",
   "metadata": {},
   "source": [
    "**Ans** `spam.insert(2,'hello')`"
   ]
  },
  {
   "cell_type": "markdown",
   "id": "d1ce7252",
   "metadata": {},
   "source": [
    "#### Let&#39;s pretend the spam includes the list [&#39;a&#39;, &#39;b&#39;, &#39;c&#39;, &#39;d&#39;] for the next three queries."
   ]
  },
  {
   "cell_type": "markdown",
   "id": "f83a038f",
   "metadata": {},
   "source": [
    "### 3. What is the value of spam[int(int(&#39;3&#39; * 2) / 11)]?"
   ]
  },
  {
   "cell_type": "markdown",
   "id": "264adbf5",
   "metadata": {},
   "source": [
    "**Ans** The value of `spam[int(int('3' * 2) / 11)]` is `'d'`"
   ]
  },
  {
   "cell_type": "markdown",
   "id": "7499f9a5",
   "metadata": {},
   "source": [
    "### 4. What is the value of spam[-1]?"
   ]
  },
  {
   "cell_type": "markdown",
   "id": "defb4380",
   "metadata": {},
   "source": [
    "**Ans** The value of `spam[-1]` is `'d'`"
   ]
  },
  {
   "cell_type": "markdown",
   "id": "a9224d0b",
   "metadata": {},
   "source": [
    "### 5. What is the value of spam[:2]?"
   ]
  },
  {
   "cell_type": "markdown",
   "id": "ecd5477f",
   "metadata": {},
   "source": [
    "**Ans** The value of `spam[:2]` is `['a', 'b']`"
   ]
  },
  {
   "cell_type": "markdown",
   "id": "fee97038",
   "metadata": {},
   "source": [
    "#### Let&#39;s pretend bacon has the list [3.14, &#39;cat,&#39; 11, &#39;cat,&#39; True] for the next three questions."
   ]
  },
  {
   "cell_type": "markdown",
   "id": "9d85ca09",
   "metadata": {},
   "source": [
    "### 6. What is the value of bacon.index(&#39;cat&#39;)?"
   ]
  },
  {
   "cell_type": "markdown",
   "id": "1c33110e",
   "metadata": {},
   "source": [
    "**Ans** The value for bacon.index('cat') is `1` "
   ]
  },
  {
   "cell_type": "markdown",
   "id": "8d58d4c5",
   "metadata": {},
   "source": [
    "### 7. How does bacon.append(99) change the look of the list value in bacon?"
   ]
  },
  {
   "cell_type": "markdown",
   "id": "e262e5ac",
   "metadata": {},
   "source": [
    "**Ans** `bacon.append(99)` appends 99 to the end of the list resulting in `[3.14, 'cat', 11, 'cat', True, 99]`"
   ]
  },
  {
   "cell_type": "markdown",
   "id": "194ce709",
   "metadata": {},
   "source": [
    "### 8. How does bacon.remove(&#39;cat&#39;) change the look of the list in bacon?"
   ]
  },
  {
   "cell_type": "markdown",
   "id": "c1c3bf6f",
   "metadata": {},
   "source": [
    "**Ans** `bacon.remove('cat')` deletes the first instance of 'cat' from the list resulting in `[3.14, 11, 'cat', True, 99]`"
   ]
  },
  {
   "cell_type": "markdown",
   "id": "70dafd1e",
   "metadata": {},
   "source": [
    "### 9. What are the list concatenation and list replication operators?"
   ]
  },
  {
   "cell_type": "markdown",
   "id": "eae4060b",
   "metadata": {},
   "source": [
    "**Ans** The operator for list concatenation is `+` and the operator for replication is `*`."
   ]
  },
  {
   "cell_type": "markdown",
   "id": "6f393426",
   "metadata": {},
   "source": [
    "### 10. What is difference between the list methods append() and insert()?"
   ]
  },
  {
   "cell_type": "markdown",
   "id": "92311de8",
   "metadata": {},
   "source": [
    "**Ans** The `list.append()` method just adds the element to the end of the list while the `list.insert()` method gives us control as to which index we want to insert the element into"
   ]
  },
  {
   "cell_type": "markdown",
   "id": "5c57be61",
   "metadata": {},
   "source": [
    "### 11. What are the two methods for removing items from a list?"
   ]
  },
  {
   "cell_type": "markdown",
   "id": "06038a6e",
   "metadata": {},
   "source": [
    "**Ans** The `list.pop()` method removes the last element of the list by default, index can be specified and `list.remove()` removes a matching element from the list  "
   ]
  },
  {
   "cell_type": "markdown",
   "id": "eeca9381",
   "metadata": {},
   "source": [
    "### 12. Describe how list values and string values are identical."
   ]
  },
  {
   "cell_type": "markdown",
   "id": "5f73ac61",
   "metadata": {},
   "source": [
    "**Ans** Both are sequences whose elements can be accessed by their index numbers and can be passed to the len function"
   ]
  },
  {
   "cell_type": "markdown",
   "id": "9f945bfb",
   "metadata": {},
   "source": [
    "### 13. What&#39;s the difference between tuples and lists?"
   ]
  },
  {
   "cell_type": "markdown",
   "id": "b8e6f6ae",
   "metadata": {},
   "source": [
    "**Ans** Both of them are sequences but `lists` are mutable and `tuples` are immutable"
   ]
  },
  {
   "cell_type": "markdown",
   "id": "2a75c3a3",
   "metadata": {},
   "source": [
    "### 14. How do you type a tuple value that only contains the integer 42?"
   ]
  },
  {
   "cell_type": "markdown",
   "id": "bc26edd2",
   "metadata": {},
   "source": [
    "**Ans** `tup = (42,)`"
   ]
  },
  {
   "cell_type": "markdown",
   "id": "1b16fb67",
   "metadata": {},
   "source": [
    "### 15. How do you get a list value&#39;s tuple form? How do you get a tuple value&#39;s list form?"
   ]
  },
  {
   "cell_type": "markdown",
   "id": "ccc249c2",
   "metadata": {},
   "source": [
    "**Ans** We can use the `tuple()` function and `list()` function to convert and get the forms of lists and tuples "
   ]
  },
  {
   "cell_type": "markdown",
   "id": "bdae3f0e",
   "metadata": {},
   "source": [
    "### 16. Variables that &quot;contain&quot; list values are not necessarily lists themselves. Instead, what do they contain?"
   ]
  },
  {
   "cell_type": "markdown",
   "id": "453fc40b",
   "metadata": {},
   "source": [
    "**Ans** Variables that contain list values contain the references to the list values in memory and not the list themselves, this is the reason why lists are also mutable"
   ]
  },
  {
   "cell_type": "markdown",
   "id": "53fb4dc8",
   "metadata": {},
   "source": [
    "### 17. How do you distinguish between copy.copy() and copy.deepcopy()?"
   ]
  },
  {
   "cell_type": "markdown",
   "id": "f7a6566d",
   "metadata": {},
   "source": [
    "**Ans** `copy.copy()` reflects changes made to the new/copied object in the original object as it copies the refrences. `copy.deepcopy()` doesn't reflect changes made to the new/copied object in the original object as it creates a new copy of the object."
   ]
  },
  {
   "cell_type": "code",
   "execution_count": null,
   "id": "ff88627c",
   "metadata": {},
   "outputs": [],
   "source": []
  }
 ],
 "metadata": {
  "kernelspec": {
   "display_name": "Python 3 (ipykernel)",
   "language": "python",
   "name": "python3"
  },
  "language_info": {
   "codemirror_mode": {
    "name": "ipython",
    "version": 3
   },
   "file_extension": ".py",
   "mimetype": "text/x-python",
   "name": "python",
   "nbconvert_exporter": "python",
   "pygments_lexer": "ipython3",
   "version": "3.9.12"
  }
 },
 "nbformat": 4,
 "nbformat_minor": 5
}
