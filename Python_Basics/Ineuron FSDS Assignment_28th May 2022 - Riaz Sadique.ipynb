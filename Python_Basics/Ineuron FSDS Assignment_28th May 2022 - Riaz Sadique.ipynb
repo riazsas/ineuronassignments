{
 "cells": [
  {
   "cell_type": "markdown",
   "id": "407026b1",
   "metadata": {},
   "source": [
    "## INeuron Full Stack Data Science - 28th May Assigment"
   ]
  },
  {
   "cell_type": "markdown",
   "id": "45bc8599",
   "metadata": {},
   "source": [
    "q1 \n",
    "ineuron\n",
    "ineuron  ineuron\n",
    "ineuron inreuon inreion\n",
    "ineuron ineuron ineuron ineuron\n",
    "\n",
    "q2\n",
    "\n",
    "       ineuron\n",
    "  ineuron    ineuron\n",
    "ineuron ineuron ineruon\n",
    "  ineuron    ineuron\n",
    "        ineuron\n",
    "        \n",
    "q3 : l = [[1,2,3,4],(2,3,4,5,6),(3,4,5,6,7) , set([23,4,5,45,4,4,5,45,45,4,5,]).{'k1':\"sudh\",\"k2\":\"ineuron,'k3':\"kumar\" .3:6,7:8},[\"ineuron,\"datas science\"]]   \n",
    "\n",
    "3 try to extract\n",
    "3.1 list\n",
    "3.2 dict\n",
    "3.3 tuples\n",
    "3.4 numercial data\n",
    "3.5 summation of numeric data\n",
    "3.6 filter out all odd numeric values out all numeric data which is a part od a linnes\n",
    "3.7 ineuron\n",
    "3.8 number of occurances of all data\n",
    "3.9 try to fin out no of keys in dict elemts\n",
    "3.10 try to filter out all string data\n",
    "3.11 try to find out alpanumeric in data\n",
    "3.12 try to find out multiplication of all collections inside data set\n",
    "3.13 unwrap all the collection inside collection and crete a flat list"
   ]
  },
  {
   "cell_type": "raw",
   "id": "ba0d5f93",
   "metadata": {},
   "source": [
    "q1 \n",
    "ineuron\n",
    "ineuron  ineuron\n",
    "ineuron ineuron ineuron\n",
    "ineuron ineuron ineuron ineuron"
   ]
  },
  {
   "cell_type": "code",
   "execution_count": 1,
   "id": "ef733494",
   "metadata": {},
   "outputs": [
    {
     "name": "stdout",
     "output_type": "stream",
     "text": [
      "ineuron \n",
      "\n",
      "ineuron ineuron \n",
      "\n",
      "ineuron ineuron ineuron \n",
      "\n",
      "ineuron ineuron ineuron ineuron \n",
      "\n"
     ]
    }
   ],
   "source": [
    "n = 4\n",
    "\n",
    "for i in range(n):\n",
    "    for j in range(i+1):\n",
    "        print (\"ineuron\",end=\" \")\n",
    "    print(\"\\n\")    "
   ]
  },
  {
   "cell_type": "raw",
   "id": "e11cd5b4",
   "metadata": {},
   "source": [
    "q2\n",
    "\n",
    "       ineuron\n",
    "  ineuron    ineuron\n",
    "ineuron ineuron ineruon\n",
    "  ineuron    ineuron\n",
    "        ineuron"
   ]
  },
  {
   "cell_type": "code",
   "execution_count": 2,
   "id": "9778f216",
   "metadata": {},
   "outputs": [
    {
     "name": "stdout",
     "output_type": "stream",
     "text": [
      "         ineuron \n",
      "\n",
      "      ineuron ineuron \n",
      "\n",
      "   ineuron ineuron ineuron \n",
      "\n",
      "     ineuron  ineuron \n",
      "\n",
      "         ineuron \n",
      "\n"
     ]
    }
   ],
   "source": [
    "\n",
    "m = 3\n",
    "for i in range(m):#for top half\n",
    "    for j in range(m,i,-1):#for blank spaces- decreasing order\n",
    "        print(\"  \", end=\" \")    \n",
    "    for k in range(j):#for ineuron increasing order\n",
    "        print(\"ineuron\",end=\" \")  \n",
    "    print('\\n')     \n",
    "#same logic as above but in reverse    \n",
    "for bottom_half in range(m-1): #-1 because it has one less row\n",
    "    for a in range(bottom_half+1): \n",
    "        print(\"   \", end=\" \")\n",
    "    for b in range(m-1,bottom_half,-1):\n",
    "        print(\" ineuron\", end=\" \")\n",
    "    print(\"\\n\")   "
   ]
  },
  {
   "cell_type": "code",
   "execution_count": 3,
   "id": "ccb84f05",
   "metadata": {},
   "outputs": [],
   "source": [
    "l = [[1,2,3,4],(2,3,4,5,6),(3,4,5,6,7) ,set([23,4,5,45,4,4,5,45,45,4,5,]),{'k1':\"sudh\",\"k2\":\"ineuron\",'k3':\"kumar\" ,3:6,7:8},[\"ineuron\",\"datas science\"]]  "
   ]
  },
  {
   "cell_type": "markdown",
   "id": "aba5ee53",
   "metadata": {},
   "source": [
    "3 try to extract-\n",
    "3.1 list\n",
    "3.2 dict\n",
    "3.3 tuples\n",
    "3.4 numercial data\n",
    "3.5 summation of numeric data\n",
    "3.6 filter out all odd numeric values out all numeric data which is a part of the list\n",
    "3.7 ineuron\n",
    "3.8 number of occurances of all data\n",
    "3.9 try to find out no of keys in dict elements\n",
    "3.10 try to filter out all string data\n",
    "3.11 try to find out alpanumeric in data\n",
    "3.12 try to find out multiplication of all collections inside data set\n",
    "3.13 unwrap all the collection inside collection and crete a flat list"
   ]
  },
  {
   "cell_type": "markdown",
   "id": "00c33883",
   "metadata": {},
   "source": [
    "3.1 list"
   ]
  },
  {
   "cell_type": "code",
   "execution_count": 4,
   "id": "0dfe9f31",
   "metadata": {},
   "outputs": [
    {
     "name": "stdout",
     "output_type": "stream",
     "text": [
      "[1, 2, 3, 4]\n",
      "['ineuron', 'datas science']\n"
     ]
    }
   ],
   "source": [
    "for i in range(len(l)):\n",
    "    if type(l[i]) == list:\n",
    "        print (l[i])"
   ]
  },
  {
   "cell_type": "markdown",
   "id": "0e398b98",
   "metadata": {},
   "source": [
    "3.2 dict"
   ]
  },
  {
   "cell_type": "code",
   "execution_count": 5,
   "id": "8131a45c",
   "metadata": {},
   "outputs": [
    {
     "name": "stdout",
     "output_type": "stream",
     "text": [
      "{'k1': 'sudh', 'k2': 'ineuron', 'k3': 'kumar', 3: 6, 7: 8}\n"
     ]
    }
   ],
   "source": [
    "for i in range(len(l)):\n",
    "    if type(l[i]) == dict:\n",
    "        print (l[i])"
   ]
  },
  {
   "cell_type": "markdown",
   "id": "84a115b6",
   "metadata": {},
   "source": [
    "3.3 tuples"
   ]
  },
  {
   "cell_type": "code",
   "execution_count": 6,
   "id": "3062ae98",
   "metadata": {},
   "outputs": [
    {
     "name": "stdout",
     "output_type": "stream",
     "text": [
      "(2, 3, 4, 5, 6)\n",
      "(3, 4, 5, 6, 7)\n"
     ]
    }
   ],
   "source": [
    "for i in range(len(l)):\n",
    "    if type(l[i]) == tuple:\n",
    "        print (l[i])"
   ]
  },
  {
   "cell_type": "markdown",
   "id": "d26e56dd",
   "metadata": {},
   "source": [
    "3.4 numercial data"
   ]
  },
  {
   "cell_type": "code",
   "execution_count": 7,
   "id": "d7448086",
   "metadata": {},
   "outputs": [
    {
     "name": "stdout",
     "output_type": "stream",
     "text": [
      "1\n",
      "2\n",
      "3\n",
      "4\n",
      "2\n",
      "3\n",
      "4\n",
      "5\n",
      "6\n",
      "3\n",
      "4\n",
      "5\n",
      "6\n",
      "7\n",
      "45\n",
      "4\n",
      "5\n",
      "23\n",
      "3\n",
      "6\n",
      "7\n",
      "8\n"
     ]
    }
   ],
   "source": [
    "for i in range(len(l)):\n",
    "    if len(l[i]) > 0 and type(l[i]) != dict  :\n",
    "          for j in l[i]:\n",
    "                if type(j)== int or type(j)== float:\n",
    "                    print(j)\n",
    "    if type(l[i]) == dict and len(l[i]) > 0:\n",
    "        for q,r in l[i].items():\n",
    "            if type(q)== int or type(q)== float: \n",
    "                    print(q)\n",
    "            if type(r)== int or type(r)== float:        \n",
    "                    print(r)        "
   ]
  },
  {
   "cell_type": "markdown",
   "id": "81989b4c",
   "metadata": {},
   "source": [
    "3.5 summation of numeric data"
   ]
  },
  {
   "cell_type": "code",
   "execution_count": 8,
   "id": "694607fd",
   "metadata": {},
   "outputs": [
    {
     "name": "stdout",
     "output_type": "stream",
     "text": [
      "156\n"
     ]
    }
   ],
   "source": [
    "sum_of_elements = 0\n",
    "for i in range(len(l)):\n",
    "    if len(l[i]) > 0 and type(l[i]) != dict  :\n",
    "          for j in l[i]:\n",
    "                if type(j)== int :\n",
    "                    #print(j)\n",
    "                    sum_of_elements = sum_of_elements + j\n",
    "    if type(l[i]) == dict and len(l[i]) > 0:\n",
    "        for q,r in l[i].items():\n",
    "            if type(q)== int :\n",
    "                    sum_of_elements = sum_of_elements + q\n",
    "                    #print(q)\n",
    "                    #print(r)\n",
    "            if type(r)== int:         \n",
    "                    sum_of_elements = sum_of_elements + r\n",
    "                    \n",
    "print(sum_of_elements)          "
   ]
  },
  {
   "cell_type": "markdown",
   "id": "d6172299",
   "metadata": {},
   "source": [
    "3.6 filter out all odd numeric values out all numeric data which is a part of the list"
   ]
  },
  {
   "cell_type": "code",
   "execution_count": 9,
   "id": "6030264f",
   "metadata": {},
   "outputs": [
    {
     "name": "stdout",
     "output_type": "stream",
     "text": [
      "1\n",
      "3\n",
      "3\n",
      "5\n",
      "3\n",
      "5\n",
      "7\n",
      "45\n",
      "5\n",
      "23\n",
      "3\n",
      "7\n"
     ]
    }
   ],
   "source": [
    "sum_of_elements = 0\n",
    "for i in range(len(l)):\n",
    "    if len(l[i]) > 0 and type(l[i]) != dict  :\n",
    "          for j in l[i]:\n",
    "                if type(j)== int and j%2 !=0 :\n",
    "                    print(j)\n",
    "    if type(l[i]) == dict and len(l[i]) > 0:\n",
    "        for q,r in l[i].items():\n",
    "            if type(q)== int and q%2 != 0:\n",
    "                    print(q)\n",
    "            if  type(r)== int and r%2 != 0:   \n",
    "                    print(r)     "
   ]
  },
  {
   "cell_type": "markdown",
   "id": "01e5baa4",
   "metadata": {},
   "source": [
    "3.7 ineuron"
   ]
  },
  {
   "cell_type": "code",
   "execution_count": 10,
   "id": "8e39ff60",
   "metadata": {},
   "outputs": [
    {
     "name": "stdout",
     "output_type": "stream",
     "text": [
      "ineuron\n",
      "ineuron\n"
     ]
    }
   ],
   "source": [
    "for i in range(len(l)):\n",
    "    if len(l[i]) > 0 and type(l[i]) != dict  :\n",
    "          for j in l[i]:\n",
    "                if j== 'ineuron':\n",
    "                    print(j)\n",
    "    if type(l[i]) == dict and len(l[i]) > 0:\n",
    "        for q,r in l[i].items():\n",
    "            if q == \"ineuron\":\n",
    "                    print(q)\n",
    "            if  r == \"ineuron\":   \n",
    "                    print(r) "
   ]
  },
  {
   "cell_type": "markdown",
   "id": "4ce44b02",
   "metadata": {},
   "source": [
    "3.8 number of occurances of all data"
   ]
  },
  {
   "cell_type": "code",
   "execution_count": 11,
   "id": "30a2d23d",
   "metadata": {},
   "outputs": [
    {
     "name": "stdout",
     "output_type": "stream",
     "text": [
      "1 : 1\n",
      "2 : 2\n",
      "3 : 4\n",
      "4 : 4\n",
      "5 : 3\n",
      "6 : 3\n",
      "7 : 2\n",
      "k3 : 1\n",
      "kumar : 1\n",
      "8 : 1\n",
      "datas science : 1\n",
      "45 : 1\n",
      "k1 : 1\n",
      "sudh : 1\n",
      "k2 : 1\n",
      "23 : 1\n",
      "ineuron : 2\n"
     ]
    }
   ],
   "source": [
    "new_list=[]\n",
    "for i in range(len(l)):\n",
    "    if len(l[i]) > 0 and type(l[i]) != dict  :\n",
    "          for j in l[i]:\n",
    "                    new_list.append(j)\n",
    "    if type(l[i]) == dict and len(l[i]) > 0:\n",
    "        for q,r in l[i].items(): \n",
    "                    new_list.append(q)\n",
    "                    new_list.append(r)\n",
    "for a in set(new_list):\n",
    "    print (a,\":\" , new_list.count(a))"
   ]
  },
  {
   "cell_type": "markdown",
   "id": "a3904347",
   "metadata": {},
   "source": [
    "3.9 try to find out no of keys in dict elements"
   ]
  },
  {
   "cell_type": "code",
   "execution_count": 12,
   "id": "cd846939",
   "metadata": {},
   "outputs": [
    {
     "name": "stdout",
     "output_type": "stream",
     "text": [
      "5\n"
     ]
    }
   ],
   "source": [
    "sum_of_keys = 0\n",
    "for i in range(len(l)):\n",
    "    if type(l[i]) == dict and len(l[i]) > 0:\n",
    "        for q,r in l[i].items():\n",
    "            sum_of_keys = sum_of_keys + 1\n",
    "            \n",
    "print(sum_of_keys)   "
   ]
  },
  {
   "cell_type": "markdown",
   "id": "b52db225",
   "metadata": {},
   "source": [
    "3.10 try to filter out all string data"
   ]
  },
  {
   "cell_type": "code",
   "execution_count": 13,
   "id": "585d5d93",
   "metadata": {},
   "outputs": [
    {
     "name": "stdout",
     "output_type": "stream",
     "text": [
      "k1\n",
      "sudh\n",
      "k2\n",
      "ineuron\n",
      "k3\n",
      "kumar\n",
      "ineuron\n",
      "datas science\n"
     ]
    }
   ],
   "source": [
    "for i in range(len(l)):\n",
    "    if len(l[i]) > 0 and type(l[i]) != dict  :\n",
    "          for j in l[i]:\n",
    "                if type(j)== str:\n",
    "                    print(j)\n",
    "    if type(l[i]) == dict and len(l[i]) > 0:\n",
    "        for q,r in l[i].items():\n",
    "            if type(q)== str: \n",
    "                    print(q)\n",
    "            if type(r)== str :        \n",
    "                    print(r) "
   ]
  },
  {
   "cell_type": "markdown",
   "id": "55f792ea",
   "metadata": {},
   "source": [
    "3.11 try to find out alpanumeric in data"
   ]
  },
  {
   "cell_type": "code",
   "execution_count": 15,
   "id": "1f8da4d4",
   "metadata": {},
   "outputs": [
    {
     "name": "stdout",
     "output_type": "stream",
     "text": [
      "k1\n",
      "sudh\n",
      "k2\n",
      "ineuron\n",
      "k3\n",
      "kumar\n",
      "ineuron\n"
     ]
    }
   ],
   "source": [
    "for i in range(len(l)):\n",
    "    if len(l[i]) > 0 and type(l[i]) != dict  :\n",
    "          for j in l[i]:\n",
    "                if type(j)== str:\n",
    "                    if j.isalnum() == True:\n",
    "                        print(j)\n",
    "    if type(l[i]) == dict and len(l[i]) > 0:\n",
    "        for q,r in l[i].items():\n",
    "            if type(q)== str:\n",
    "                 if q.isalnum() == True:\n",
    "                        print(q)\n",
    "            if type(r)== str :        \n",
    "                      if r.isalnum() == True:\n",
    "                        print(r)"
   ]
  },
  {
   "cell_type": "markdown",
   "id": "9c4ec821",
   "metadata": {},
   "source": [
    "3.12 try to find out multiplication of all"
   ]
  },
  {
   "cell_type": "code",
   "execution_count": 16,
   "id": "35fdc0f4",
   "metadata": {},
   "outputs": [
    {
     "name": "stdout",
     "output_type": "stream",
     "text": [
      "908605071360000\n"
     ]
    }
   ],
   "source": [
    "mult_of_elements = 1\n",
    "for i in range(len(l)):\n",
    "    if len(l[i]) > 0 and type(l[i]) != dict :\n",
    "          for j in l[i]:\n",
    "                if type(j)== int:\n",
    "                    #print(j)\n",
    "                    mult_of_elements = mult_of_elements *j\n",
    "    if type(l[i]) == dict and len(l[i]) > 0:\n",
    "        for q,r in l[i].items():\n",
    "            if type(q)== int :\n",
    "                    mult_of_elements = mult_of_elements * q\n",
    "                    #print(q)\n",
    "                    #print(r)\n",
    "            if type(r)== int:         \n",
    "                    mult_of_elements = mult_of_elements * r\n",
    "print(mult_of_elements)"
   ]
  },
  {
   "cell_type": "markdown",
   "id": "bff68c26",
   "metadata": {},
   "source": [
    "3.13 unwrap all the collection inside collection and create a flat list"
   ]
  },
  {
   "cell_type": "code",
   "execution_count": 17,
   "id": "402a444d",
   "metadata": {},
   "outputs": [
    {
     "name": "stdout",
     "output_type": "stream",
     "text": [
      "[1, 2, 3, 4, 2, 3, 4, 5, 6, 3, 4, 5, 6, 7, 45, 4, 5, 23, 'k1', 'sudh', 'k2', 'ineuron', 'k3', 'kumar', 3, 6, 7, 8, 'ineuron', 'datas science']\n"
     ]
    }
   ],
   "source": [
    "new_list=[]\n",
    "for i in range(len(l)):\n",
    "    if len(l[i]) > 0 and type(l[i]) != dict  :\n",
    "          for j in l[i]:\n",
    "                    new_list.append(j)\n",
    "    if type(l[i]) == dict and len(l[i]) > 0:\n",
    "        for q,r in l[i].items(): \n",
    "                    new_list.append(q)\n",
    "                    new_list.append(r)\n",
    "print (new_list)"
   ]
  },
  {
   "cell_type": "code",
   "execution_count": null,
   "id": "d272fba2",
   "metadata": {},
   "outputs": [],
   "source": []
  }
 ],
 "metadata": {
  "kernelspec": {
   "display_name": "Python 3",
   "language": "python",
   "name": "python3"
  },
  "language_info": {
   "codemirror_mode": {
    "name": "ipython",
    "version": 3
   },
   "file_extension": ".py",
   "mimetype": "text/x-python",
   "name": "python",
   "nbconvert_exporter": "python",
   "pygments_lexer": "ipython3",
   "version": "3.7.6"
  }
 },
 "nbformat": 4,
 "nbformat_minor": 5
}
