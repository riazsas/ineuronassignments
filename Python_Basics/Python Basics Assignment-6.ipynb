{
 "cells": [
  {
   "cell_type": "markdown",
   "id": "5749f45d",
   "metadata": {},
   "source": [
    "### 1. What are escape characters, and how do you use them?"
   ]
  },
  {
   "cell_type": "markdown",
   "id": "a0ec7cfb",
   "metadata": {},
   "source": [
    "**Ans** Escape characters are characters that let you use string characters that usually are usually not built in to code. For eg: `\\n`, `\\t`,`\\\\`"
   ]
  },
  {
   "cell_type": "markdown",
   "id": "1b066c91",
   "metadata": {},
   "source": [
    "### 2. What do the escape characters n and t stand for?"
   ]
  },
  {
   "cell_type": "markdown",
   "id": "23798e1c",
   "metadata": {},
   "source": [
    "`\\n`: for new line\n",
    "`\\t` : for space/tab"
   ]
  },
  {
   "cell_type": "markdown",
   "id": "582a9055",
   "metadata": {},
   "source": [
    "### 3. What is the way to include backslash characters in a string?"
   ]
  },
  {
   "cell_type": "markdown",
   "id": "ccb09436",
   "metadata": {},
   "source": [
    "**Ans** `\\\\`"
   ]
  },
  {
   "cell_type": "markdown",
   "id": "98f07953",
   "metadata": {},
   "source": [
    "### 4. The string &quot;Howl&#39;s Moving Castle&quot; is a correct value. Why isn&#39;t the single quote character in the word Howl&#39;s not escaped a problem?"
   ]
  },
  {
   "cell_type": "markdown",
   "id": "74f583f2",
   "metadata": {},
   "source": [
    "**Ans** Because it is wrapped in 'double quotes' as opposed to 'single quotes'"
   ]
  },
  {
   "cell_type": "markdown",
   "id": "aa1a1fd3",
   "metadata": {},
   "source": [
    "### 5. How do you write a string of newlines if you don&#39;t want to use the n character?"
   ]
  },
  {
   "cell_type": "markdown",
   "id": "de9d63af",
   "metadata": {},
   "source": [
    "**Ans** Multiline strings can be used to write a string of newlines when we don't want to use the n character"
   ]
  },
  {
   "cell_type": "markdown",
   "id": "956f25cd",
   "metadata": {},
   "source": [
    "### 6. What are the values of the given expressions?\n",
    "\n",
    "- &#39;Hello, world!&#39;[1]\n",
    "- &#39;Hello, world!&#39;[0:5]\n",
    "- &#39;Hello, world!&#39;[:5]\n",
    "- &#39;Hello, world!&#39;[3:]"
   ]
  },
  {
   "cell_type": "code",
   "execution_count": 12,
   "id": "75f1f78c",
   "metadata": {},
   "outputs": [
    {
     "name": "stdout",
     "output_type": "stream",
     "text": [
      "e\n",
      "Hello\n",
      "Hello\n",
      "lo, world!\n"
     ]
    }
   ],
   "source": [
    "print('Hello, world!'[1])\n",
    "print('Hello, world!'[0:5])\n",
    "print('Hello, world!'[:5])\n",
    "print('Hello, world!'[3:])"
   ]
  },
  {
   "cell_type": "markdown",
   "id": "79a1660c",
   "metadata": {},
   "source": [
    "### 7. What are the values of the following expressions?\n",
    "\n",
    "- &#39;Hello&#39;.upper()\n",
    "- &#39;Hello&#39;.upper().isupper()\n",
    "- &#39;Hello&#39;.upper().lower()"
   ]
  },
  {
   "cell_type": "code",
   "execution_count": 14,
   "id": "9dea7bfd",
   "metadata": {},
   "outputs": [
    {
     "name": "stdout",
     "output_type": "stream",
     "text": [
      "HELLO\n",
      "True\n",
      "hello\n"
     ]
    }
   ],
   "source": [
    "print('Hello'.upper())\n",
    "print('Hello'.upper().isupper())\n",
    "print('Hello'.upper().lower())\n"
   ]
  },
  {
   "cell_type": "markdown",
   "id": "2a48d9ff",
   "metadata": {},
   "source": [
    "### 8. What are the values of the following expressions?\n",
    "\n",
    " - &#39;Remember, remember, the fifth of July.&#39;.split()\n",
    " - &#39;-&#39;.join(&#39;There can only one.&#39;.split())"
   ]
  },
  {
   "cell_type": "code",
   "execution_count": 15,
   "id": "43e651a3",
   "metadata": {},
   "outputs": [
    {
     "name": "stdout",
     "output_type": "stream",
     "text": [
      "['Remember,', 'remember,', 'the', 'fifth', 'of', 'July.']\n",
      "There-can-only-one.\n"
     ]
    }
   ],
   "source": [
    "print('Remember, remember, the fifth of July.'.split())\n",
    "print('-'.join('There can only one.'.split()))"
   ]
  },
  {
   "cell_type": "markdown",
   "id": "461650e2",
   "metadata": {},
   "source": [
    "### 9. What are the methods for right-justifying, left-justifying, and centering a string?"
   ]
  },
  {
   "cell_type": "markdown",
   "id": "40862db3",
   "metadata": {},
   "source": [
    "`rjust()`,`ljust()`and `center()` "
   ]
  },
  {
   "cell_type": "markdown",
   "id": "4d954c7f",
   "metadata": {},
   "source": [
    "### 10. What is the best way to remove whitespace characters from the start or end?"
   ]
  },
  {
   "cell_type": "markdown",
   "id": "d4bbb657",
   "metadata": {},
   "source": [
    "`string.rstrip()` or `string.lstrip()` "
   ]
  }
 ],
 "metadata": {
  "kernelspec": {
   "display_name": "Python 3 (ipykernel)",
   "language": "python",
   "name": "python3"
  },
  "language_info": {
   "codemirror_mode": {
    "name": "ipython",
    "version": 3
   },
   "file_extension": ".py",
   "mimetype": "text/x-python",
   "name": "python",
   "nbconvert_exporter": "python",
   "pygments_lexer": "ipython3",
   "version": "3.9.12"
  }
 },
 "nbformat": 4,
 "nbformat_minor": 5
}
